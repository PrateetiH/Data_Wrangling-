{
 "cells": [
  {
   "cell_type": "markdown",
   "metadata": {},
   "source": [
    "##  Objective of the project \n",
    "Data wrangling from the WeRateDogs Twitter account using Python tools and to create valuable analyzes and visualizations."
   ]
  },
  {
   "cell_type": "markdown",
   "metadata": {},
   "source": [
    "## Step 1"
   ]
  },
  {
   "cell_type": "markdown",
   "metadata": {},
   "source": [
    "## Gathering data \n",
    "The data was gathered from three different sources. The first set of data was collected from WeRateDogs Twitter archive namely with the file name \"twitter-archive-enhanced-2.csv\". This csv was imported to a dataframe using pandas.\n",
    "The second datasets was extracted programmatically from a URL linked image prediction file namely \"image_predictions.tsv\" and into a dataframe using pandas. Last set of data was imported using Python library tweepy from the source Twitter API. "
   ]
  },
  {
   "cell_type": "markdown",
   "metadata": {},
   "source": [
    "## Step 2 "
   ]
  },
  {
   "cell_type": "markdown",
   "metadata": {},
   "source": [
    "## Assessing data\n",
    "\n",
    "Using Pandas the datasets were assesed. Pandas .info() method give the detail summary of the dataframe as well as .describe() method depicts a general statistics of the dataframe. Performing the methods quality and tidiness issues were observed in the dataframe.\n",
    "Quality issues were as such:\n",
    "1)Data missing in the following columns: in_reply_to_status_id, in_reply_to_user_id. 2)Timestamp and retweeted_status_timestamp is an object .3) Multiple dog stages occurs such as 'doggo puppo', 'doggo pupper', 'doggo floofer' .4) HTML tags in source columns. 5)In image_df,dog breeds are not consistently in p1,p2,p3 columns . 6)Dogs name have 'None', or 'a', or 'an.' and some more lower case words as names. 7) The given dataset includes retweets, which means there is duplicated data. 8) Missing values in the columns :retweeted_status_id, retweeted_status_user_id, retweeted_status_timestamp, expanded_urls\n",
    "\n",
    "Tidiness issues :\n",
    "1) The variable for the dog's stage (dogoo, floofer, pupper, puppo) is spread in different columns. 2)The image_df set is part of the same observational unit as the data in the archive_df"
   ]
  },
  {
   "cell_type": "markdown",
   "metadata": {},
   "source": [
    "## Step 3 "
   ]
  },
  {
   "cell_type": "markdown",
   "metadata": {},
   "source": [
    "## Cleaning data \n",
    "The following questions were defined, coded and tested for the dataframe\n",
    "\n",
    "1) Predicted dog breed column created based on the the confidence level of minimum 20% and 'p1_dog', 'p2_dog' and 'p3_dog' statements\n",
    "\n",
    "2) Create one column for the various dog types: doggo, floofer, pupper, puppo, 'doggo, puppo', 'doggo, pupper', 'doggo, floofer' ascolumn name ' type ' with the categorical dtype¶\n",
    "\n",
    "3) Change the timestamp to correct datetime format\n",
    "\n",
    "4) Change the tweet_id to string/object"
   ]
  }
 ],
 "metadata": {
  "kernelspec": {
   "display_name": "Python 3",
   "language": "python",
   "name": "python3"
  },
  "language_info": {
   "codemirror_mode": {
    "name": "ipython",
    "version": 3
   },
   "file_extension": ".py",
   "mimetype": "text/x-python",
   "name": "python",
   "nbconvert_exporter": "python",
   "pygments_lexer": "ipython3",
   "version": "3.7.3"
  }
 },
 "nbformat": 4,
 "nbformat_minor": 2
}
